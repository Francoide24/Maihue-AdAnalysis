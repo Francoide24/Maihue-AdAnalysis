{
 "cells": [
  {
   "cell_type": "code",
   "execution_count": 1,
   "id": "a51a0f42-ee64-4e67-998d-eb7b92b031c0",
   "metadata": {},
   "outputs": [
    {
     "name": "stdout",
     "output_type": "stream",
     "text": [
      "\u001b[0m\n",
      "\u001b[34m\u001b[1m  You can now view your Streamlit app in your browser.\u001b[0m\n",
      "\u001b[0m\n",
      "\u001b[34m  Local URL: \u001b[0m\u001b[1mhttp://localhost:8501\u001b[0m\n",
      "\u001b[34m  Network URL: \u001b[0m\u001b[1mhttp://192.168.115.15:8501\u001b[0m\n",
      "\u001b[0m\n",
      "\u001b[34m\u001b[1m  For better performance, install the Watchdog module:\u001b[0m\n",
      "\n",
      "  $ xcode-select --install\n",
      "  $ pip install watchdog\n",
      "            \u001b[0m\n",
      "/Users/equiposti/Desktop/VS CODE PROYECTOS/ANALISIS ST/app.py:823: FutureWarning: Setting an item of incompatible dtype is deprecated and will raise an error in a future version of pandas. Value '36.34' has dtype incompatible with float64, please explicitly cast to a compatible dtype first.\n",
      "  df_formatted.loc[metric_name, c] = format_metric(cell_val, metric_name)\n",
      "/Users/equiposti/Desktop/VS CODE PROYECTOS/ANALISIS ST/app.py:823: FutureWarning: Setting an item of incompatible dtype is deprecated and will raise an error in a future version of pandas. Value '34.17' has dtype incompatible with float64, please explicitly cast to a compatible dtype first.\n",
      "  df_formatted.loc[metric_name, c] = format_metric(cell_val, metric_name)\n",
      "/Users/equiposti/Desktop/VS CODE PROYECTOS/ANALISIS ST/app.py:823: FutureWarning: Setting an item of incompatible dtype is deprecated and will raise an error in a future version of pandas. Value '35.46' has dtype incompatible with float64, please explicitly cast to a compatible dtype first.\n",
      "  df_formatted.loc[metric_name, c] = format_metric(cell_val, metric_name)\n",
      "/Users/equiposti/Desktop/VS CODE PROYECTOS/ANALISIS ST/app.py:823: FutureWarning: Setting an item of incompatible dtype is deprecated and will raise an error in a future version of pandas. Value '36.70' has dtype incompatible with float64, please explicitly cast to a compatible dtype first.\n",
      "  df_formatted.loc[metric_name, c] = format_metric(cell_val, metric_name)\n",
      "/Users/equiposti/Desktop/VS CODE PROYECTOS/ANALISIS ST/app.py:823: FutureWarning: Setting an item of incompatible dtype is deprecated and will raise an error in a future version of pandas. Value '32.89' has dtype incompatible with float64, please explicitly cast to a compatible dtype first.\n",
      "  df_formatted.loc[metric_name, c] = format_metric(cell_val, metric_name)\n",
      "/Users/equiposti/Desktop/VS CODE PROYECTOS/ANALISIS ST/app.py:823: FutureWarning: Setting an item of incompatible dtype is deprecated and will raise an error in a future version of pandas. Value '31.73' has dtype incompatible with float64, please explicitly cast to a compatible dtype first.\n",
      "  df_formatted.loc[metric_name, c] = format_metric(cell_val, metric_name)\n",
      "/Users/equiposti/Desktop/VS CODE PROYECTOS/ANALISIS ST/app.py:823: FutureWarning: Setting an item of incompatible dtype is deprecated and will raise an error in a future version of pandas. Value '36.00' has dtype incompatible with float64, please explicitly cast to a compatible dtype first.\n",
      "  df_formatted.loc[metric_name, c] = format_metric(cell_val, metric_name)\n",
      "/Users/equiposti/Desktop/VS CODE PROYECTOS/ANALISIS ST/app.py:823: FutureWarning: Setting an item of incompatible dtype is deprecated and will raise an error in a future version of pandas. Value '29.18' has dtype incompatible with float64, please explicitly cast to a compatible dtype first.\n",
      "  df_formatted.loc[metric_name, c] = format_metric(cell_val, metric_name)\n",
      "/Users/equiposti/Desktop/VS CODE PROYECTOS/ANALISIS ST/app.py:823: FutureWarning: Setting an item of incompatible dtype is deprecated and will raise an error in a future version of pandas. Value '32.02' has dtype incompatible with float64, please explicitly cast to a compatible dtype first.\n",
      "  df_formatted.loc[metric_name, c] = format_metric(cell_val, metric_name)\n",
      "/Users/equiposti/Desktop/VS CODE PROYECTOS/ANALISIS ST/app.py:827: FutureWarning: Styler.applymap has been deprecated. Use Styler.map instead.\n",
      "  }).applymap(\n",
      "^C\n",
      "\u001b[34m  Stopping...\u001b[0m\n",
      "Exception ignored on threading shutdown:\n",
      "Traceback (most recent call last):\n",
      "  File \"/Library/Frameworks/Python.framework/Versions/3.13/lib/python3.13/threading.py\", line 1534, in _shutdown\n",
      "    atexit_call()\n",
      "  File \"/Library/Frameworks/Python.framework/Versions/3.13/lib/python3.13/threading.py\", line 1505, in <lambda>\n",
      "    _threading_atexits.append(lambda: func(*arg, **kwargs))\n",
      "  File \"/Library/Frameworks/Python.framework/Versions/3.13/lib/python3.13/concurrent/futures/thread.py\", line 31, in _python_exit\n",
      "    t.join()\n",
      "  File \"/Library/Frameworks/Python.framework/Versions/3.13/lib/python3.13/threading.py\", line 1092, in join\n",
      "    self._handle.join(timeout)\n",
      "  File \"/Users/equiposti/Desktop/VS CODE PROYECTOS/.venv/lib/python3.13/site-packages/streamlit/web/bootstrap.py\", line 44, in signal_handler\n",
      "    server.stop()\n",
      "  File \"/Users/equiposti/Desktop/VS CODE PROYECTOS/.venv/lib/python3.13/site-packages/streamlit/web/server/server.py\", line 470, in stop\n",
      "    self._runtime.stop()\n",
      "  File \"/Users/equiposti/Desktop/VS CODE PROYECTOS/.venv/lib/python3.13/site-packages/streamlit/runtime/runtime.py\", line 337, in stop\n",
      "    async_objs.eventloop.call_soon_threadsafe(stop_on_eventloop)\n",
      "  File \"/Library/Frameworks/Python.framework/Versions/3.13/lib/python3.13/asyncio/base_events.py\", line 878, in call_soon_threadsafe\n",
      "    self._check_closed()\n",
      "  File \"/Library/Frameworks/Python.framework/Versions/3.13/lib/python3.13/asyncio/base_events.py\", line 556, in _check_closed\n",
      "    raise RuntimeError('Event loop is closed')\n",
      "RuntimeError: Event loop is closed\n"
     ]
    }
   ],
   "source": [
    "!streamlit run app.py"
   ]
  },
  {
   "cell_type": "code",
   "execution_count": null,
   "id": "b296344a",
   "metadata": {},
   "outputs": [],
   "source": []
  }
 ],
 "metadata": {
  "kernelspec": {
   "display_name": ".venv",
   "language": "python",
   "name": "python3"
  },
  "language_info": {
   "codemirror_mode": {
    "name": "ipython",
    "version": 3
   },
   "file_extension": ".py",
   "mimetype": "text/x-python",
   "name": "python",
   "nbconvert_exporter": "python",
   "pygments_lexer": "ipython3",
   "version": "3.13.2"
  }
 },
 "nbformat": 4,
 "nbformat_minor": 5
}
